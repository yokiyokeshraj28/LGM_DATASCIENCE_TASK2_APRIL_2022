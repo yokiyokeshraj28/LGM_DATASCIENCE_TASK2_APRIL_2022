{
 "cells": [
  {
   "cell_type": "markdown",
   "id": "e4319011",
   "metadata": {},
   "source": [
    "### Importing all Required Libraries"
   ]
  },
  {
   "cell_type": "code",
   "execution_count": 2,
   "id": "2b5c9510",
   "metadata": {},
   "outputs": [],
   "source": [
    "import numpy as np\n",
    "from nltk.tokenize import RegexpTokenizer\n",
    "from keras.models import Sequential, load_model\n",
    "from keras.layers import LSTM\n",
    "from keras.layers.core import Dense, Activation\n",
    "from tensorflow.keras.optimizers import RMSprop\n",
    "import matplotlib.pyplot as plt\n",
    "import pickle\n",
    "import heapq"
   ]
  },
  {
   "cell_type": "markdown",
   "id": "82b62d48",
   "metadata": {},
   "source": [
    "### Loading the dataset from system"
   ]
  },
  {
   "cell_type": "code",
   "execution_count": 3,
   "id": "822678cb",
   "metadata": {},
   "outputs": [],
   "source": [
    "text_file = open(\"1661-0.txt\", encoding='UTF-8').read().lower() #reading the text file "
   ]
  },
  {
   "cell_type": "markdown",
   "id": "780abc50",
   "metadata": {},
   "source": [
    "### Storing relevant data only (for better accuracy)"
   ]
  },
  {
   "cell_type": "code",
   "execution_count": 4,
   "id": "c3fd3ee6",
   "metadata": {},
   "outputs": [],
   "source": [
    "txtf=text_file[1273:] #storing the relevant text by slicing the about intro,preface,cover,index details from the dataset "
   ]
  },
  {
   "cell_type": "code",
   "execution_count": 5,
   "id": "e857c4c0",
   "metadata": {},
   "outputs": [
    {
     "name": "stdout",
     "output_type": "stream",
     "text": [
      "Length of text present in file : 580615\n"
     ]
    }
   ],
   "source": [
    "print('Length of text present in file :', len(txtf))"
   ]
  },
  {
   "cell_type": "markdown",
   "id": "eb5d3c97",
   "metadata": {},
   "source": [
    "### Splitting the dataset into single words in order "
   ]
  },
  {
   "cell_type": "code",
   "execution_count": 6,
   "id": "fb2fda5a",
   "metadata": {},
   "outputs": [],
   "source": [
    "tokenizer=RegexpTokenizer(r'\\w+')\n",
    "wrds = tokenizer.tokenize(txtf)"
   ]
  },
  {
   "cell_type": "code",
   "execution_count": 7,
   "id": "342a86cb",
   "metadata": {},
   "outputs": [],
   "source": [
    "#print(wrds)"
   ]
  },
  {
   "cell_type": "markdown",
   "id": "88092ae5",
   "metadata": {},
   "source": [
    "### Making a dictionary containing every word in the data"
   ]
  },
  {
   "cell_type": "code",
   "execution_count": 8,
   "id": "456e1a09",
   "metadata": {},
   "outputs": [],
   "source": [
    "uq_wrds= np.unique(wrds) #storing all unique words inside a list\n",
    "uq_wrd_index= dict((j,i) for i,j in enumerate(uq_wrds)) #creating a dictionary with keys(list of unique words) and values(all words present in the dataset)"
   ]
  },
  {
   "cell_type": "markdown",
   "id": "22238871",
   "metadata": {},
   "source": [
    "### Feature Engineering"
   ]
  },
  {
   "cell_type": "code",
   "execution_count": 9,
   "id": "83421e5a",
   "metadata": {},
   "outputs": [
    {
     "name": "stdout",
     "output_type": "stream",
     "text": [
      "['to', 'sherlock', 'holmes', 'she', 'is']\n",
      "\n",
      " always\n"
     ]
    }
   ],
   "source": [
    "wrd_len=5\n",
    "prev_wrds=[]\n",
    "next_wrds=[]\n",
    "for i in range(len(wrds)-wrd_len):\n",
    "    prev_wrds.append(wrds[i:(i+wrd_len)])\n",
    "    next_wrds.append(wrds[i+wrd_len])\n",
    "print(prev_wrds[0])\n",
    "print('\\n',next_wrds[0])"
   ]
  },
  {
   "cell_type": "code",
   "execution_count": 10,
   "id": "d2f70bf4",
   "metadata": {},
   "outputs": [],
   "source": [
    "#creating a array to store the features\n",
    "X = np.zeros((len(prev_wrds), wrd_len, len(uq_wrds)), dtype=bool)"
   ]
  },
  {
   "cell_type": "code",
   "execution_count": 11,
   "id": "abcb7bf8",
   "metadata": {},
   "outputs": [],
   "source": [
    "#creating another array to store the corresponding label\n",
    "Y = np.zeros((len(next_wrds), len(uq_wrds)), dtype=bool)"
   ]
  },
  {
   "cell_type": "code",
   "execution_count": 12,
   "id": "7f38016a",
   "metadata": {},
   "outputs": [],
   "source": [
    "#storing \n",
    "for i, each_wrds in enumerate(prev_wrds):\n",
    "    for j, each_wrds in enumerate(each_wrds):\n",
    "        X[i, j, uq_wrd_index[each_wrds]] = 1\n",
    "    Y[i, uq_wrd_index[next_wrds[i]]] = 1"
   ]
  },
  {
   "cell_type": "code",
   "execution_count": 13,
   "id": "64df3547",
   "metadata": {},
   "outputs": [
    {
     "name": "stdout",
     "output_type": "stream",
     "text": [
      "[False False False ... False False False]\n"
     ]
    }
   ],
   "source": [
    "print(X[0][0])  #a look at a single sequence of words"
   ]
  },
  {
   "cell_type": "markdown",
   "id": "8a0457b9",
   "metadata": {},
   "source": [
    "### Bulding model"
   ]
  },
  {
   "cell_type": "code",
   "execution_count": 14,
   "id": "624725ed",
   "metadata": {},
   "outputs": [],
   "source": [
    "model=Sequential()\n",
    "model.add(LSTM(128, input_shape=(wrd_len, len(uq_wrds))))  #using LSTM model, a powerful Recurrent Neural Network(RNN).\n",
    "model.add(Dense(len(uq_wrds)))\n",
    "model.add(Activation('softmax'))"
   ]
  },
  {
   "cell_type": "markdown",
   "id": "da0efdf5",
   "metadata": {},
   "source": [
    "### Training the model"
   ]
  },
  {
   "cell_type": "code",
   "execution_count": 23,
   "id": "caea77ac",
   "metadata": {},
   "outputs": [
    {
     "name": "stdout",
     "output_type": "stream",
     "text": [
      "Epoch 1/5\n",
      "810/810 [==============================] - 88s 107ms/step - loss: 5.7947 - accuracy: 0.1729 - val_loss: 8.4816 - val_accuracy: 0.0899\n",
      "Epoch 2/5\n",
      "810/810 [==============================] - 85s 105ms/step - loss: 5.4415 - accuracy: 0.2099 - val_loss: 8.7678 - val_accuracy: 0.1088\n",
      "Epoch 3/5\n",
      "810/810 [==============================] - 85s 105ms/step - loss: 5.1011 - accuracy: 0.2499 - val_loss: 8.8801 - val_accuracy: 0.0866\n",
      "Epoch 4/5\n",
      "810/810 [==============================] - 85s 105ms/step - loss: 4.7824 - accuracy: 0.2913 - val_loss: 8.9340 - val_accuracy: 0.0776\n",
      "Epoch 5/5\n",
      "810/810 [==============================] - 85s 105ms/step - loss: 4.5431 - accuracy: 0.3310 - val_loss: 9.0609 - val_accuracy: 0.0774\n"
     ]
    }
   ],
   "source": [
    "optimizer=RMSprop(learning_rate=0.01)\n",
    "model.compile(loss='categorical_crossentropy', optimizer=optimizer, metrics=['accuracy'])\n",
    "history= model.fit(X, Y, validation_split=0.05, batch_size=128, epochs=5, shuffle=True).history"
   ]
  },
  {
   "cell_type": "markdown",
   "id": "fd4950ba",
   "metadata": {},
   "source": [
    "### Saving the model for future use"
   ]
  },
  {
   "cell_type": "code",
   "execution_count": 24,
   "id": "a719d6bd",
   "metadata": {},
   "outputs": [],
   "source": [
    "model.save('keras_next_word_model.h5')\n",
    "pickle.dump(history, open(\"history.p\", \"wb\"))\n",
    "model= load_model('keras_next_word_model.h5')\n",
    "history= pickle.load(open(\"history.p\", \"rb\"))"
   ]
  },
  {
   "cell_type": "markdown",
   "id": "9fce5029",
   "metadata": {},
   "source": [
    "### Testing the Model"
   ]
  },
  {
   "cell_type": "code",
   "execution_count": 119,
   "id": "c3e45b58",
   "metadata": {},
   "outputs": [
    {
     "name": "stdout",
     "output_type": "stream",
     "text": [
      "that\n",
      "which\n",
      "does\n",
      "not\n",
      "give\n"
     ]
    },
    {
     "data": {
      "text/plain": [
       "array([[[0., 0., 0., ..., 0., 0., 0.],\n",
       "        [0., 0., 0., ..., 0., 0., 0.],\n",
       "        [0., 0., 0., ..., 0., 0., 0.],\n",
       "        [0., 0., 0., ..., 0., 0., 0.],\n",
       "        [0., 0., 0., ..., 0., 0., 0.]]])"
      ]
     },
     "execution_count": 119,
     "metadata": {},
     "output_type": "execute_result"
    }
   ],
   "source": [
    "def prepare_input(txtf):\n",
    "    x=np.zeros((1, wrd_len, len(uq_wrds)))\n",
    "    for t, word in enumerate(txtf.split()):\n",
    "        print(word)\n",
    "        x[0, t, uq_wrd_index[word]] = 1\n",
    "    return x\n",
    "prepare_input(\"That which does not give\".lower())"
   ]
  },
  {
   "cell_type": "code",
   "execution_count": 120,
   "id": "28af0570",
   "metadata": {},
   "outputs": [],
   "source": [
    "#funtion for returning samples\n",
    "def sample(preds, top_n=3): \n",
    "    preds = np.asarray(preds).astype('float64')\n",
    "    preds = np.log(preds)\n",
    "    exp_preds = np.exp(preds)\n",
    "    preds = exp_preds / np.sum(exp_preds)\n",
    "\n",
    "    return heapq.nlargest(top_n, range(len(preds)), preds.take)"
   ]
  },
  {
   "cell_type": "code",
   "execution_count": 121,
   "id": "59cfa249",
   "metadata": {},
   "outputs": [],
   "source": [
    "#funtion for prediction model\n",
    "def predict_completions(txt,n=3):\n",
    "    if txt==\"\":\n",
    "        return(\"0\")\n",
    "    x=prepare_input(txt)\n",
    "    preds=model.predict(x, verbose=0)[0]\n",
    "    next_indices=sample(preds,n)\n",
    "    return [uq_wrds[idx] for idx in next_indices]"
   ]
  },
  {
   "cell_type": "markdown",
   "id": "578c53f6",
   "metadata": {},
   "source": [
    "### Sample Result"
   ]
  },
  {
   "cell_type": "code",
   "execution_count": 122,
   "id": "c9409ea7",
   "metadata": {
    "scrolled": true
   },
   "outputs": [
    {
     "name": "stdout",
     "output_type": "stream",
     "text": [
      "Enter a sentence:- He was clearly so scared by his mischance in breaking the window\n",
      "he\n",
      "was\n",
      "clearly\n",
      "so\n",
      "scared\n",
      "Next predicted words: ['that', 'and', 'by', 'to', 'with', 'for', 'of', 'then', 'but', 'so']\n"
     ]
    }
   ],
   "source": [
    "sent = input(\"Enter a sentence:- \")\n",
    "seq = \" \".join(tokenizer.tokenize(sent.lower())[0:5])  #using only first 5 words of the input\n",
    "pc=predict_completions(seq, 10)  #creating a list of 10 predicted words using the model\n",
    "print(\"Next predicted words:\",pc)"
   ]
  },
  {
   "cell_type": "markdown",
   "id": "333018cc",
   "metadata": {},
   "source": [
    "#### Word 'by' is after word 'scared' in the input and the list of predicted words, word 'by' is present at 3rd position.\n",
    "#### So, we can say that our model gave a correct prediction."
   ]
  }
 ],
 "metadata": {
  "kernelspec": {
   "display_name": "Python 3 (ipykernel)",
   "language": "python",
   "name": "python3"
  },
  "language_info": {
   "codemirror_mode": {
    "name": "ipython",
    "version": 3
   },
   "file_extension": ".py",
   "mimetype": "text/x-python",
   "name": "python",
   "nbconvert_exporter": "python",
   "pygments_lexer": "ipython3",
   "version": "3.9.7"
  }
 },
 "nbformat": 4,
 "nbformat_minor": 5
}
